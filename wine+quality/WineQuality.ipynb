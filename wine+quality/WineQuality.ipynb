{
 "cells": [
  {
   "cell_type": "markdown",
   "id": "dcffd06c",
   "metadata": {},
   "source": [
    "# Wine Quality Analysis (Part one)"
   ]
  },
  {
   "cell_type": "markdown",
   "id": "7a1def68",
   "metadata": {},
   "source": [
    "### 1.0 Introduction"
   ]
  },
  {
   "cell_type": "markdown",
   "id": "8703571f",
   "metadata": {},
   "source": [
    "In this project, we will be working with two datasets - 1 on red wine samples and the other on white wine samples from the North of Portugal. Each sample contains information about the quality rating of the wine. Due to privacy constraint the name, brand of the wine, grape types etc are unavailable.\n",
    "\n",
    "We will perform some EDA to get to know our data set and answer some related questions. We will also touch on some predictive analysis using ML as well.\n",
    "\n",
    "-----------------------------------------------------------------------"
   ]
  },
  {
   "cell_type": "markdown",
   "id": "cce40d83",
   "metadata": {},
   "source": [
    "### 2.0 Dataset"
   ]
  },
  {
   "cell_type": "markdown",
   "id": "c126e17b",
   "metadata": {},
   "source": [
    "##### 2.1 Source\n",
    "> The two datasets are related to red and white variants of the Portuguese \"Vinho Verde\" wine.\n",
    "\n",
    "For more information about the dataset click [here](https://archive.ics.uci.edu/dataset/186/wine+quality)"
   ]
  },
  {
   "cell_type": "markdown",
   "id": "b98d61c3",
   "metadata": {},
   "source": [
    "##### 2.2 Attributes"
   ]
  },
  {
   "cell_type": "markdown",
   "id": "fadbe760",
   "metadata": {},
   "source": [
    "**Attribute information**:\n",
    "- Input variables (based on physicochemical tests):\n",
    "   1. fixed acidity\n",
    "   2. volatile acidity\n",
    "   3. citric acid\n",
    "   4. residual sugar\n",
    "   5. chlorides\n",
    "   6. free sulfur dioxide\n",
    "   7. total sulfur dioxide\n",
    "   8. density\n",
    "   9. pH\n",
    "   10. sulphates\n",
    "   11. alcohol\n",
    "- Output variable (based on sensory data): \n",
    "   12. quality (score between 0 and 10)\n",
    "   \n",
    "-----------------------------------"
   ]
  },
  {
   "cell_type": "markdown",
   "id": "6361be56",
   "metadata": {},
   "source": [
    "### 3.0 Questions to Answer\n",
    "Based on the datasets. Here are a list of some questions I find interesting:\n",
    "- Red or White wine has a better rating than the other?\n",
    "- Is good rating associated with alcohol contains or residual sugar? (sweet or dry wine?)\n",
    "- What level of acidity is associated with highest quality?\n",
    "\n",
    "------------"
   ]
  },
  {
   "cell_type": "markdown",
   "id": "541fa8ea",
   "metadata": {},
   "source": [
    "### 4.0 Data Wrangling"
   ]
  },
  {
   "cell_type": "markdown",
   "id": "ee531238",
   "metadata": {},
   "source": [
    "##### 4.1 Load the data"
   ]
  },
  {
   "cell_type": "code",
   "execution_count": 138,
   "id": "f1a780bb",
   "metadata": {},
   "outputs": [],
   "source": [
    "# Importing the nescessary libraries for this analysis\n",
    "import pandas as pd\n",
    "import numpy as np\n",
    "import matplotlib.pyplot as plt\n",
    "import seaborn as sns\n",
    "\n",
    "# Figure settings\n",
    "plt.rcParams['figure.figsize'] = [10, 6]\n",
    "plt.rcParams['axes.titleweight'] = 'bold'\n",
    "plt.rcParams['axes.titlesize'] = 20\n",
    "# Set theme\n",
    "sns.set_theme(style=\"whitegrid\")"
   ]
  },
  {
   "cell_type": "code",
   "execution_count": 6,
   "id": "03bda276",
   "metadata": {},
   "outputs": [],
   "source": [
    "# Load csv files\n",
    "red = pd.read_csv('profolio/wine+quality/winequality-red.csv', sep=';')\n",
    "white = pd.read_csv('profolio/wine+quality/winequality-white.csv', sep=';')"
   ]
  },
  {
   "cell_type": "code",
   "execution_count": 9,
   "id": "e157a8aa",
   "metadata": {},
   "outputs": [
    {
     "data": {
      "text/plain": [
       "((1599, 12), (4898, 12))"
      ]
     },
     "execution_count": 9,
     "metadata": {},
     "output_type": "execute_result"
    }
   ],
   "source": [
    "# What are the shapes of our data?\n",
    "\n",
    "red.shape, white.shape"
   ]
  },
  {
   "cell_type": "markdown",
   "id": "8c82ec94",
   "metadata": {},
   "source": [
    "There are more observations for white wine compared to red's. They both have the same attributes discussed above."
   ]
  },
  {
   "cell_type": "markdown",
   "id": "c5f94909",
   "metadata": {},
   "source": [
    "##### 4.2 Data cleaning"
   ]
  },
  {
   "cell_type": "markdown",
   "id": "30d2e8af",
   "metadata": {},
   "source": [
    "**Any missing values?**"
   ]
  },
  {
   "cell_type": "code",
   "execution_count": 12,
   "id": "0c883f0c",
   "metadata": {},
   "outputs": [
    {
     "name": "stdout",
     "output_type": "stream",
     "text": [
      "<class 'pandas.core.frame.DataFrame'>\n",
      "RangeIndex: 1599 entries, 0 to 1598\n",
      "Data columns (total 12 columns):\n",
      " #   Column                Non-Null Count  Dtype  \n",
      "---  ------                --------------  -----  \n",
      " 0   fixed acidity         1599 non-null   float64\n",
      " 1   volatile acidity      1599 non-null   float64\n",
      " 2   citric acid           1599 non-null   float64\n",
      " 3   residual sugar        1599 non-null   float64\n",
      " 4   chlorides             1599 non-null   float64\n",
      " 5   free sulfur dioxide   1599 non-null   float64\n",
      " 6   total sulfur dioxide  1599 non-null   float64\n",
      " 7   density               1599 non-null   float64\n",
      " 8   pH                    1599 non-null   float64\n",
      " 9   sulphates             1599 non-null   float64\n",
      " 10  alcohol               1599 non-null   float64\n",
      " 11  quality               1599 non-null   int64  \n",
      "dtypes: float64(11), int64(1)\n",
      "memory usage: 150.0 KB\n"
     ]
    }
   ],
   "source": [
    "red.info()"
   ]
  },
  {
   "cell_type": "code",
   "execution_count": 13,
   "id": "e722eab6",
   "metadata": {},
   "outputs": [
    {
     "name": "stdout",
     "output_type": "stream",
     "text": [
      "<class 'pandas.core.frame.DataFrame'>\n",
      "RangeIndex: 4898 entries, 0 to 4897\n",
      "Data columns (total 12 columns):\n",
      " #   Column                Non-Null Count  Dtype  \n",
      "---  ------                --------------  -----  \n",
      " 0   fixed acidity         4898 non-null   float64\n",
      " 1   volatile acidity      4898 non-null   float64\n",
      " 2   citric acid           4898 non-null   float64\n",
      " 3   residual sugar        4898 non-null   float64\n",
      " 4   chlorides             4898 non-null   float64\n",
      " 5   free sulfur dioxide   4898 non-null   float64\n",
      " 6   total sulfur dioxide  4898 non-null   float64\n",
      " 7   density               4898 non-null   float64\n",
      " 8   pH                    4898 non-null   float64\n",
      " 9   sulphates             4898 non-null   float64\n",
      " 10  alcohol               4898 non-null   float64\n",
      " 11  quality               4898 non-null   int64  \n",
      "dtypes: float64(11), int64(1)\n",
      "memory usage: 459.3 KB\n"
     ]
    }
   ],
   "source": [
    "white.info()"
   ]
  },
  {
   "cell_type": "markdown",
   "id": "90f2c175",
   "metadata": {},
   "source": [
    "There are no missing values presented in both datasets"
   ]
  },
  {
   "cell_type": "markdown",
   "id": "6bc81838",
   "metadata": {},
   "source": [
    "**Any duplicated values?**"
   ]
  },
  {
   "cell_type": "code",
   "execution_count": 16,
   "id": "90b1eb33",
   "metadata": {},
   "outputs": [
    {
     "data": {
      "text/plain": [
       "240"
      ]
     },
     "execution_count": 16,
     "metadata": {},
     "output_type": "execute_result"
    }
   ],
   "source": [
    "red.duplicated().sum()"
   ]
  },
  {
   "cell_type": "code",
   "execution_count": 17,
   "id": "b735ebba",
   "metadata": {},
   "outputs": [
    {
     "data": {
      "text/plain": [
       "937"
      ]
     },
     "execution_count": 17,
     "metadata": {},
     "output_type": "execute_result"
    }
   ],
   "source": [
    "white.duplicated().sum()"
   ]
  },
  {
   "cell_type": "markdown",
   "id": "65ff67c4",
   "metadata": {},
   "source": [
    "There is a big amount of duplicated rows present in both dataframe. Let's keep this information in mind when we perform the analysis.\n",
    "As there is no information about the brand of the wine it could be the same bottle of wine being tasted multiple times."
   ]
  },
  {
   "cell_type": "markdown",
   "id": "e2c2886d",
   "metadata": {},
   "source": [
    "##### Statistic Summary"
   ]
  },
  {
   "cell_type": "code",
   "execution_count": 20,
   "id": "fde0f6ad",
   "metadata": {},
   "outputs": [
    {
     "data": {
      "text/html": [
       "<div>\n",
       "<style scoped>\n",
       "    .dataframe tbody tr th:only-of-type {\n",
       "        vertical-align: middle;\n",
       "    }\n",
       "\n",
       "    .dataframe tbody tr th {\n",
       "        vertical-align: top;\n",
       "    }\n",
       "\n",
       "    .dataframe thead th {\n",
       "        text-align: right;\n",
       "    }\n",
       "</style>\n",
       "<table border=\"1\" class=\"dataframe\">\n",
       "  <thead>\n",
       "    <tr style=\"text-align: right;\">\n",
       "      <th></th>\n",
       "      <th>fixed acidity</th>\n",
       "      <th>volatile acidity</th>\n",
       "      <th>citric acid</th>\n",
       "      <th>residual sugar</th>\n",
       "      <th>chlorides</th>\n",
       "      <th>free sulfur dioxide</th>\n",
       "      <th>total sulfur dioxide</th>\n",
       "      <th>density</th>\n",
       "      <th>pH</th>\n",
       "      <th>sulphates</th>\n",
       "      <th>alcohol</th>\n",
       "      <th>quality</th>\n",
       "    </tr>\n",
       "  </thead>\n",
       "  <tbody>\n",
       "    <tr>\n",
       "      <th>count</th>\n",
       "      <td>1599.000000</td>\n",
       "      <td>1599.000000</td>\n",
       "      <td>1599.000000</td>\n",
       "      <td>1599.000000</td>\n",
       "      <td>1599.000000</td>\n",
       "      <td>1599.000000</td>\n",
       "      <td>1599.000000</td>\n",
       "      <td>1599.000000</td>\n",
       "      <td>1599.000000</td>\n",
       "      <td>1599.000000</td>\n",
       "      <td>1599.000000</td>\n",
       "      <td>1599.000000</td>\n",
       "    </tr>\n",
       "    <tr>\n",
       "      <th>mean</th>\n",
       "      <td>8.319637</td>\n",
       "      <td>0.527821</td>\n",
       "      <td>0.270976</td>\n",
       "      <td>2.538806</td>\n",
       "      <td>0.087467</td>\n",
       "      <td>15.874922</td>\n",
       "      <td>46.467792</td>\n",
       "      <td>0.996747</td>\n",
       "      <td>3.311113</td>\n",
       "      <td>0.658149</td>\n",
       "      <td>10.422983</td>\n",
       "      <td>5.636023</td>\n",
       "    </tr>\n",
       "    <tr>\n",
       "      <th>std</th>\n",
       "      <td>1.741096</td>\n",
       "      <td>0.179060</td>\n",
       "      <td>0.194801</td>\n",
       "      <td>1.409928</td>\n",
       "      <td>0.047065</td>\n",
       "      <td>10.460157</td>\n",
       "      <td>32.895324</td>\n",
       "      <td>0.001887</td>\n",
       "      <td>0.154386</td>\n",
       "      <td>0.169507</td>\n",
       "      <td>1.065668</td>\n",
       "      <td>0.807569</td>\n",
       "    </tr>\n",
       "    <tr>\n",
       "      <th>min</th>\n",
       "      <td>4.600000</td>\n",
       "      <td>0.120000</td>\n",
       "      <td>0.000000</td>\n",
       "      <td>0.900000</td>\n",
       "      <td>0.012000</td>\n",
       "      <td>1.000000</td>\n",
       "      <td>6.000000</td>\n",
       "      <td>0.990070</td>\n",
       "      <td>2.740000</td>\n",
       "      <td>0.330000</td>\n",
       "      <td>8.400000</td>\n",
       "      <td>3.000000</td>\n",
       "    </tr>\n",
       "    <tr>\n",
       "      <th>25%</th>\n",
       "      <td>7.100000</td>\n",
       "      <td>0.390000</td>\n",
       "      <td>0.090000</td>\n",
       "      <td>1.900000</td>\n",
       "      <td>0.070000</td>\n",
       "      <td>7.000000</td>\n",
       "      <td>22.000000</td>\n",
       "      <td>0.995600</td>\n",
       "      <td>3.210000</td>\n",
       "      <td>0.550000</td>\n",
       "      <td>9.500000</td>\n",
       "      <td>5.000000</td>\n",
       "    </tr>\n",
       "    <tr>\n",
       "      <th>50%</th>\n",
       "      <td>7.900000</td>\n",
       "      <td>0.520000</td>\n",
       "      <td>0.260000</td>\n",
       "      <td>2.200000</td>\n",
       "      <td>0.079000</td>\n",
       "      <td>14.000000</td>\n",
       "      <td>38.000000</td>\n",
       "      <td>0.996750</td>\n",
       "      <td>3.310000</td>\n",
       "      <td>0.620000</td>\n",
       "      <td>10.200000</td>\n",
       "      <td>6.000000</td>\n",
       "    </tr>\n",
       "    <tr>\n",
       "      <th>75%</th>\n",
       "      <td>9.200000</td>\n",
       "      <td>0.640000</td>\n",
       "      <td>0.420000</td>\n",
       "      <td>2.600000</td>\n",
       "      <td>0.090000</td>\n",
       "      <td>21.000000</td>\n",
       "      <td>62.000000</td>\n",
       "      <td>0.997835</td>\n",
       "      <td>3.400000</td>\n",
       "      <td>0.730000</td>\n",
       "      <td>11.100000</td>\n",
       "      <td>6.000000</td>\n",
       "    </tr>\n",
       "    <tr>\n",
       "      <th>max</th>\n",
       "      <td>15.900000</td>\n",
       "      <td>1.580000</td>\n",
       "      <td>1.000000</td>\n",
       "      <td>15.500000</td>\n",
       "      <td>0.611000</td>\n",
       "      <td>72.000000</td>\n",
       "      <td>289.000000</td>\n",
       "      <td>1.003690</td>\n",
       "      <td>4.010000</td>\n",
       "      <td>2.000000</td>\n",
       "      <td>14.900000</td>\n",
       "      <td>8.000000</td>\n",
       "    </tr>\n",
       "  </tbody>\n",
       "</table>\n",
       "</div>"
      ],
      "text/plain": [
       "       fixed acidity  volatile acidity  ...      alcohol      quality\n",
       "count    1599.000000       1599.000000  ...  1599.000000  1599.000000\n",
       "mean        8.319637          0.527821  ...    10.422983     5.636023\n",
       "std         1.741096          0.179060  ...     1.065668     0.807569\n",
       "min         4.600000          0.120000  ...     8.400000     3.000000\n",
       "25%         7.100000          0.390000  ...     9.500000     5.000000\n",
       "50%         7.900000          0.520000  ...    10.200000     6.000000\n",
       "75%         9.200000          0.640000  ...    11.100000     6.000000\n",
       "max        15.900000          1.580000  ...    14.900000     8.000000\n",
       "\n",
       "[8 rows x 12 columns]"
      ]
     },
     "execution_count": 20,
     "metadata": {},
     "output_type": "execute_result"
    }
   ],
   "source": [
    "red.describe()"
   ]
  },
  {
   "cell_type": "code",
   "execution_count": 21,
   "id": "5001a62e",
   "metadata": {},
   "outputs": [
    {
     "data": {
      "text/html": [
       "<div>\n",
       "<style scoped>\n",
       "    .dataframe tbody tr th:only-of-type {\n",
       "        vertical-align: middle;\n",
       "    }\n",
       "\n",
       "    .dataframe tbody tr th {\n",
       "        vertical-align: top;\n",
       "    }\n",
       "\n",
       "    .dataframe thead th {\n",
       "        text-align: right;\n",
       "    }\n",
       "</style>\n",
       "<table border=\"1\" class=\"dataframe\">\n",
       "  <thead>\n",
       "    <tr style=\"text-align: right;\">\n",
       "      <th></th>\n",
       "      <th>fixed acidity</th>\n",
       "      <th>volatile acidity</th>\n",
       "      <th>citric acid</th>\n",
       "      <th>residual sugar</th>\n",
       "      <th>chlorides</th>\n",
       "      <th>free sulfur dioxide</th>\n",
       "      <th>total sulfur dioxide</th>\n",
       "      <th>density</th>\n",
       "      <th>pH</th>\n",
       "      <th>sulphates</th>\n",
       "      <th>alcohol</th>\n",
       "      <th>quality</th>\n",
       "    </tr>\n",
       "  </thead>\n",
       "  <tbody>\n",
       "    <tr>\n",
       "      <th>count</th>\n",
       "      <td>4898.000000</td>\n",
       "      <td>4898.000000</td>\n",
       "      <td>4898.000000</td>\n",
       "      <td>4898.000000</td>\n",
       "      <td>4898.000000</td>\n",
       "      <td>4898.000000</td>\n",
       "      <td>4898.000000</td>\n",
       "      <td>4898.000000</td>\n",
       "      <td>4898.000000</td>\n",
       "      <td>4898.000000</td>\n",
       "      <td>4898.000000</td>\n",
       "      <td>4898.000000</td>\n",
       "    </tr>\n",
       "    <tr>\n",
       "      <th>mean</th>\n",
       "      <td>6.854788</td>\n",
       "      <td>0.278241</td>\n",
       "      <td>0.334192</td>\n",
       "      <td>6.391415</td>\n",
       "      <td>0.045772</td>\n",
       "      <td>35.308085</td>\n",
       "      <td>138.360657</td>\n",
       "      <td>0.994027</td>\n",
       "      <td>3.188267</td>\n",
       "      <td>0.489847</td>\n",
       "      <td>10.514267</td>\n",
       "      <td>5.877909</td>\n",
       "    </tr>\n",
       "    <tr>\n",
       "      <th>std</th>\n",
       "      <td>0.843868</td>\n",
       "      <td>0.100795</td>\n",
       "      <td>0.121020</td>\n",
       "      <td>5.072058</td>\n",
       "      <td>0.021848</td>\n",
       "      <td>17.007137</td>\n",
       "      <td>42.498065</td>\n",
       "      <td>0.002991</td>\n",
       "      <td>0.151001</td>\n",
       "      <td>0.114126</td>\n",
       "      <td>1.230621</td>\n",
       "      <td>0.885639</td>\n",
       "    </tr>\n",
       "    <tr>\n",
       "      <th>min</th>\n",
       "      <td>3.800000</td>\n",
       "      <td>0.080000</td>\n",
       "      <td>0.000000</td>\n",
       "      <td>0.600000</td>\n",
       "      <td>0.009000</td>\n",
       "      <td>2.000000</td>\n",
       "      <td>9.000000</td>\n",
       "      <td>0.987110</td>\n",
       "      <td>2.720000</td>\n",
       "      <td>0.220000</td>\n",
       "      <td>8.000000</td>\n",
       "      <td>3.000000</td>\n",
       "    </tr>\n",
       "    <tr>\n",
       "      <th>25%</th>\n",
       "      <td>6.300000</td>\n",
       "      <td>0.210000</td>\n",
       "      <td>0.270000</td>\n",
       "      <td>1.700000</td>\n",
       "      <td>0.036000</td>\n",
       "      <td>23.000000</td>\n",
       "      <td>108.000000</td>\n",
       "      <td>0.991723</td>\n",
       "      <td>3.090000</td>\n",
       "      <td>0.410000</td>\n",
       "      <td>9.500000</td>\n",
       "      <td>5.000000</td>\n",
       "    </tr>\n",
       "    <tr>\n",
       "      <th>50%</th>\n",
       "      <td>6.800000</td>\n",
       "      <td>0.260000</td>\n",
       "      <td>0.320000</td>\n",
       "      <td>5.200000</td>\n",
       "      <td>0.043000</td>\n",
       "      <td>34.000000</td>\n",
       "      <td>134.000000</td>\n",
       "      <td>0.993740</td>\n",
       "      <td>3.180000</td>\n",
       "      <td>0.470000</td>\n",
       "      <td>10.400000</td>\n",
       "      <td>6.000000</td>\n",
       "    </tr>\n",
       "    <tr>\n",
       "      <th>75%</th>\n",
       "      <td>7.300000</td>\n",
       "      <td>0.320000</td>\n",
       "      <td>0.390000</td>\n",
       "      <td>9.900000</td>\n",
       "      <td>0.050000</td>\n",
       "      <td>46.000000</td>\n",
       "      <td>167.000000</td>\n",
       "      <td>0.996100</td>\n",
       "      <td>3.280000</td>\n",
       "      <td>0.550000</td>\n",
       "      <td>11.400000</td>\n",
       "      <td>6.000000</td>\n",
       "    </tr>\n",
       "    <tr>\n",
       "      <th>max</th>\n",
       "      <td>14.200000</td>\n",
       "      <td>1.100000</td>\n",
       "      <td>1.660000</td>\n",
       "      <td>65.800000</td>\n",
       "      <td>0.346000</td>\n",
       "      <td>289.000000</td>\n",
       "      <td>440.000000</td>\n",
       "      <td>1.038980</td>\n",
       "      <td>3.820000</td>\n",
       "      <td>1.080000</td>\n",
       "      <td>14.200000</td>\n",
       "      <td>9.000000</td>\n",
       "    </tr>\n",
       "  </tbody>\n",
       "</table>\n",
       "</div>"
      ],
      "text/plain": [
       "       fixed acidity  volatile acidity  ...      alcohol      quality\n",
       "count    4898.000000       4898.000000  ...  4898.000000  4898.000000\n",
       "mean        6.854788          0.278241  ...    10.514267     5.877909\n",
       "std         0.843868          0.100795  ...     1.230621     0.885639\n",
       "min         3.800000          0.080000  ...     8.000000     3.000000\n",
       "25%         6.300000          0.210000  ...     9.500000     5.000000\n",
       "50%         6.800000          0.260000  ...    10.400000     6.000000\n",
       "75%         7.300000          0.320000  ...    11.400000     6.000000\n",
       "max        14.200000          1.100000  ...    14.200000     9.000000\n",
       "\n",
       "[8 rows x 12 columns]"
      ]
     },
     "execution_count": 21,
     "metadata": {},
     "output_type": "execute_result"
    }
   ],
   "source": [
    "white.describe()"
   ]
  },
  {
   "cell_type": "markdown",
   "id": "f778fbb3",
   "metadata": {},
   "source": [
    "That was a lot to look at. Let's look at the attributes that we are interested in asnwering our questions with"
   ]
  },
  {
   "cell_type": "code",
   "execution_count": 25,
   "id": "6defcdc6",
   "metadata": {},
   "outputs": [
    {
     "data": {
      "text/html": [
       "<div>\n",
       "<style scoped>\n",
       "    .dataframe tbody tr th:only-of-type {\n",
       "        vertical-align: middle;\n",
       "    }\n",
       "\n",
       "    .dataframe tbody tr th {\n",
       "        vertical-align: top;\n",
       "    }\n",
       "\n",
       "    .dataframe thead th {\n",
       "        text-align: right;\n",
       "    }\n",
       "</style>\n",
       "<table border=\"1\" class=\"dataframe\">\n",
       "  <thead>\n",
       "    <tr style=\"text-align: right;\">\n",
       "      <th></th>\n",
       "      <th>residual sugar</th>\n",
       "      <th>alcohol</th>\n",
       "      <th>quality</th>\n",
       "    </tr>\n",
       "  </thead>\n",
       "  <tbody>\n",
       "    <tr>\n",
       "      <th>count</th>\n",
       "      <td>1599.000000</td>\n",
       "      <td>1599.000000</td>\n",
       "      <td>1599.000000</td>\n",
       "    </tr>\n",
       "    <tr>\n",
       "      <th>mean</th>\n",
       "      <td>2.538806</td>\n",
       "      <td>10.422983</td>\n",
       "      <td>5.636023</td>\n",
       "    </tr>\n",
       "    <tr>\n",
       "      <th>std</th>\n",
       "      <td>1.409928</td>\n",
       "      <td>1.065668</td>\n",
       "      <td>0.807569</td>\n",
       "    </tr>\n",
       "    <tr>\n",
       "      <th>min</th>\n",
       "      <td>0.900000</td>\n",
       "      <td>8.400000</td>\n",
       "      <td>3.000000</td>\n",
       "    </tr>\n",
       "    <tr>\n",
       "      <th>25%</th>\n",
       "      <td>1.900000</td>\n",
       "      <td>9.500000</td>\n",
       "      <td>5.000000</td>\n",
       "    </tr>\n",
       "    <tr>\n",
       "      <th>50%</th>\n",
       "      <td>2.200000</td>\n",
       "      <td>10.200000</td>\n",
       "      <td>6.000000</td>\n",
       "    </tr>\n",
       "    <tr>\n",
       "      <th>75%</th>\n",
       "      <td>2.600000</td>\n",
       "      <td>11.100000</td>\n",
       "      <td>6.000000</td>\n",
       "    </tr>\n",
       "    <tr>\n",
       "      <th>max</th>\n",
       "      <td>15.500000</td>\n",
       "      <td>14.900000</td>\n",
       "      <td>8.000000</td>\n",
       "    </tr>\n",
       "  </tbody>\n",
       "</table>\n",
       "</div>"
      ],
      "text/plain": [
       "       residual sugar      alcohol      quality\n",
       "count     1599.000000  1599.000000  1599.000000\n",
       "mean         2.538806    10.422983     5.636023\n",
       "std          1.409928     1.065668     0.807569\n",
       "min          0.900000     8.400000     3.000000\n",
       "25%          1.900000     9.500000     5.000000\n",
       "50%          2.200000    10.200000     6.000000\n",
       "75%          2.600000    11.100000     6.000000\n",
       "max         15.500000    14.900000     8.000000"
      ]
     },
     "execution_count": 25,
     "metadata": {},
     "output_type": "execute_result"
    }
   ],
   "source": [
    "red[['residual sugar', 'alcohol', 'quality']].describe()"
   ]
  },
  {
   "cell_type": "code",
   "execution_count": 27,
   "id": "7874b441",
   "metadata": {},
   "outputs": [
    {
     "data": {
      "text/html": [
       "<div>\n",
       "<style scoped>\n",
       "    .dataframe tbody tr th:only-of-type {\n",
       "        vertical-align: middle;\n",
       "    }\n",
       "\n",
       "    .dataframe tbody tr th {\n",
       "        vertical-align: top;\n",
       "    }\n",
       "\n",
       "    .dataframe thead th {\n",
       "        text-align: right;\n",
       "    }\n",
       "</style>\n",
       "<table border=\"1\" class=\"dataframe\">\n",
       "  <thead>\n",
       "    <tr style=\"text-align: right;\">\n",
       "      <th></th>\n",
       "      <th>residual sugar</th>\n",
       "      <th>alcohol</th>\n",
       "      <th>quality</th>\n",
       "    </tr>\n",
       "  </thead>\n",
       "  <tbody>\n",
       "    <tr>\n",
       "      <th>count</th>\n",
       "      <td>4898.000000</td>\n",
       "      <td>4898.000000</td>\n",
       "      <td>4898.000000</td>\n",
       "    </tr>\n",
       "    <tr>\n",
       "      <th>mean</th>\n",
       "      <td>6.391415</td>\n",
       "      <td>10.514267</td>\n",
       "      <td>5.877909</td>\n",
       "    </tr>\n",
       "    <tr>\n",
       "      <th>std</th>\n",
       "      <td>5.072058</td>\n",
       "      <td>1.230621</td>\n",
       "      <td>0.885639</td>\n",
       "    </tr>\n",
       "    <tr>\n",
       "      <th>min</th>\n",
       "      <td>0.600000</td>\n",
       "      <td>8.000000</td>\n",
       "      <td>3.000000</td>\n",
       "    </tr>\n",
       "    <tr>\n",
       "      <th>25%</th>\n",
       "      <td>1.700000</td>\n",
       "      <td>9.500000</td>\n",
       "      <td>5.000000</td>\n",
       "    </tr>\n",
       "    <tr>\n",
       "      <th>50%</th>\n",
       "      <td>5.200000</td>\n",
       "      <td>10.400000</td>\n",
       "      <td>6.000000</td>\n",
       "    </tr>\n",
       "    <tr>\n",
       "      <th>75%</th>\n",
       "      <td>9.900000</td>\n",
       "      <td>11.400000</td>\n",
       "      <td>6.000000</td>\n",
       "    </tr>\n",
       "    <tr>\n",
       "      <th>max</th>\n",
       "      <td>65.800000</td>\n",
       "      <td>14.200000</td>\n",
       "      <td>9.000000</td>\n",
       "    </tr>\n",
       "  </tbody>\n",
       "</table>\n",
       "</div>"
      ],
      "text/plain": [
       "       residual sugar      alcohol      quality\n",
       "count     4898.000000  4898.000000  4898.000000\n",
       "mean         6.391415    10.514267     5.877909\n",
       "std          5.072058     1.230621     0.885639\n",
       "min          0.600000     8.000000     3.000000\n",
       "25%          1.700000     9.500000     5.000000\n",
       "50%          5.200000    10.400000     6.000000\n",
       "75%          9.900000    11.400000     6.000000\n",
       "max         65.800000    14.200000     9.000000"
      ]
     },
     "execution_count": 27,
     "metadata": {},
     "output_type": "execute_result"
    }
   ],
   "source": [
    "white[['residual sugar', 'alcohol', 'quality']].describe()"
   ]
  },
  {
   "cell_type": "markdown",
   "id": "b34ce41c",
   "metadata": {},
   "source": [
    "**Observation**:\n",
    "- On average red wine quality is slightly lower than white wine's 5.6, 5.8 respectively. However not significant.\n",
    "- White wine has the highest quality rating is 9 while highest rating of red is 8.\n",
    "- On average white one is sweeter than red wine with mean residual sugar of 6.3 compared with only 2.5 of red wine. \n",
    "- It also has a higher standard deviation meaning that a lot of variablity in white wine sugar content (some are sweet and some are not), while most of red is not sweet (close to the mean)"
   ]
  },
  {
   "cell_type": "markdown",
   "id": "fa752708",
   "metadata": {},
   "source": [
    "##### Change column names to snakecase for easier reference "
   ]
  },
  {
   "cell_type": "code",
   "execution_count": 38,
   "id": "b3b7f3fe",
   "metadata": {},
   "outputs": [
    {
     "data": {
      "text/plain": [
       "['fixed_acidity',\n",
       " 'volatile_acidity',\n",
       " 'citric_acid',\n",
       " 'residual_sugar',\n",
       " 'chlorides',\n",
       " 'free_sulfur_dioxide',\n",
       " 'total_sulfur_dioxide',\n",
       " 'density',\n",
       " 'pH',\n",
       " 'sulphates',\n",
       " 'alcohol',\n",
       " 'quality']"
      ]
     },
     "execution_count": 38,
     "metadata": {},
     "output_type": "execute_result"
    }
   ],
   "source": [
    "new_columns = [x.replace(' ', '_') for x in red.columns]\n",
    "new_columns"
   ]
  },
  {
   "cell_type": "code",
   "execution_count": 42,
   "id": "0e36bd7b",
   "metadata": {},
   "outputs": [],
   "source": [
    "red.columns = new_columns\n",
    "white.columns = new_columns"
   ]
  },
  {
   "cell_type": "markdown",
   "id": "4a1dd7d1",
   "metadata": {},
   "source": [
    "##### 4.3 Combine two dataframe into one"
   ]
  },
  {
   "cell_type": "code",
   "execution_count": 47,
   "id": "354d2507",
   "metadata": {},
   "outputs": [],
   "source": [
    "# Create a new attribute colour for each dataframe\n",
    "red['colour'] = np.repeat('red', red.shape[0])\n",
    "white['colour'] = np.repeat('white', white.shape[0])"
   ]
  },
  {
   "cell_type": "code",
   "execution_count": 51,
   "id": "e1de1210",
   "metadata": {},
   "outputs": [
    {
     "data": {
      "text/plain": [
       "(6497, 13)"
      ]
     },
     "execution_count": 51,
     "metadata": {},
     "output_type": "execute_result"
    }
   ],
   "source": [
    "# Combine two dataframe vertically along axis 0 \n",
    "wine = pd.concat([red, white])\n",
    "\n",
    "wine.shape"
   ]
  },
  {
   "cell_type": "markdown",
   "id": "2bee49af",
   "metadata": {},
   "source": [
    "---------------\n",
    "### 5.0 Answer to the outlined questions:"
   ]
  },
  {
   "cell_type": "markdown",
   "id": "09084109",
   "metadata": {},
   "source": [
    "#### 5.1 Red or White wine has a better rating than the other?"
   ]
  },
  {
   "cell_type": "code",
   "execution_count": 55,
   "id": "7865273b",
   "metadata": {},
   "outputs": [
    {
     "data": {
      "text/html": [
       "<div>\n",
       "<style scoped>\n",
       "    .dataframe tbody tr th:only-of-type {\n",
       "        vertical-align: middle;\n",
       "    }\n",
       "\n",
       "    .dataframe tbody tr th {\n",
       "        vertical-align: top;\n",
       "    }\n",
       "\n",
       "    .dataframe thead th {\n",
       "        text-align: right;\n",
       "    }\n",
       "</style>\n",
       "<table border=\"1\" class=\"dataframe\">\n",
       "  <thead>\n",
       "    <tr style=\"text-align: right;\">\n",
       "      <th></th>\n",
       "      <th>fixed_acidity</th>\n",
       "      <th>volatile_acidity</th>\n",
       "      <th>citric_acid</th>\n",
       "      <th>residual_sugar</th>\n",
       "      <th>chlorides</th>\n",
       "      <th>free_sulfur_dioxide</th>\n",
       "      <th>total_sulfur_dioxide</th>\n",
       "      <th>density</th>\n",
       "      <th>pH</th>\n",
       "      <th>sulphates</th>\n",
       "      <th>alcohol</th>\n",
       "      <th>quality</th>\n",
       "      <th>colour</th>\n",
       "    </tr>\n",
       "  </thead>\n",
       "  <tbody>\n",
       "    <tr>\n",
       "      <th>0</th>\n",
       "      <td>7.4</td>\n",
       "      <td>0.70</td>\n",
       "      <td>0.00</td>\n",
       "      <td>1.9</td>\n",
       "      <td>0.076</td>\n",
       "      <td>11.0</td>\n",
       "      <td>34.0</td>\n",
       "      <td>0.9978</td>\n",
       "      <td>3.51</td>\n",
       "      <td>0.56</td>\n",
       "      <td>9.4</td>\n",
       "      <td>5</td>\n",
       "      <td>red</td>\n",
       "    </tr>\n",
       "    <tr>\n",
       "      <th>1</th>\n",
       "      <td>7.8</td>\n",
       "      <td>0.88</td>\n",
       "      <td>0.00</td>\n",
       "      <td>2.6</td>\n",
       "      <td>0.098</td>\n",
       "      <td>25.0</td>\n",
       "      <td>67.0</td>\n",
       "      <td>0.9968</td>\n",
       "      <td>3.20</td>\n",
       "      <td>0.68</td>\n",
       "      <td>9.8</td>\n",
       "      <td>5</td>\n",
       "      <td>red</td>\n",
       "    </tr>\n",
       "    <tr>\n",
       "      <th>2</th>\n",
       "      <td>7.8</td>\n",
       "      <td>0.76</td>\n",
       "      <td>0.04</td>\n",
       "      <td>2.3</td>\n",
       "      <td>0.092</td>\n",
       "      <td>15.0</td>\n",
       "      <td>54.0</td>\n",
       "      <td>0.9970</td>\n",
       "      <td>3.26</td>\n",
       "      <td>0.65</td>\n",
       "      <td>9.8</td>\n",
       "      <td>5</td>\n",
       "      <td>red</td>\n",
       "    </tr>\n",
       "    <tr>\n",
       "      <th>3</th>\n",
       "      <td>11.2</td>\n",
       "      <td>0.28</td>\n",
       "      <td>0.56</td>\n",
       "      <td>1.9</td>\n",
       "      <td>0.075</td>\n",
       "      <td>17.0</td>\n",
       "      <td>60.0</td>\n",
       "      <td>0.9980</td>\n",
       "      <td>3.16</td>\n",
       "      <td>0.58</td>\n",
       "      <td>9.8</td>\n",
       "      <td>6</td>\n",
       "      <td>red</td>\n",
       "    </tr>\n",
       "    <tr>\n",
       "      <th>4</th>\n",
       "      <td>7.4</td>\n",
       "      <td>0.70</td>\n",
       "      <td>0.00</td>\n",
       "      <td>1.9</td>\n",
       "      <td>0.076</td>\n",
       "      <td>11.0</td>\n",
       "      <td>34.0</td>\n",
       "      <td>0.9978</td>\n",
       "      <td>3.51</td>\n",
       "      <td>0.56</td>\n",
       "      <td>9.4</td>\n",
       "      <td>5</td>\n",
       "      <td>red</td>\n",
       "    </tr>\n",
       "  </tbody>\n",
       "</table>\n",
       "</div>"
      ],
      "text/plain": [
       "   fixed_acidity  volatile_acidity  citric_acid  ...  alcohol  quality  colour\n",
       "0            7.4              0.70         0.00  ...      9.4        5     red\n",
       "1            7.8              0.88         0.00  ...      9.8        5     red\n",
       "2            7.8              0.76         0.04  ...      9.8        5     red\n",
       "3           11.2              0.28         0.56  ...      9.8        6     red\n",
       "4            7.4              0.70         0.00  ...      9.4        5     red\n",
       "\n",
       "[5 rows x 13 columns]"
      ]
     },
     "execution_count": 55,
     "metadata": {},
     "output_type": "execute_result"
    }
   ],
   "source": [
    "wine.head()"
   ]
  },
  {
   "cell_type": "code",
   "execution_count": 125,
   "id": "f2421816",
   "metadata": {},
   "outputs": [
    {
     "data": {
      "image/png": "[encoded data removed]",
      "text/plain": [
       "<Figure size 720x432 with 1 Axes>"
      ]
     },
     "metadata": {},
     "output_type": "display_data"
    }
   ],
   "source": [
    "sns.boxplot(x='colour', y='quality', data=wine)\n",
    "plt.title('Boxplot of Wine Quality by Colour')\n",
    "plt.xlabel('Colour')\n",
    "plt.ylabel('Quality');"
   ]
  },
  {
   "cell_type": "markdown",
   "id": "503d39ff",
   "metadata": {},
   "source": [
    "As seen from the side by side boxplot above:\n",
    "- The quality of red and white wine is very similar. (They are both equally yum!)\n",
    "- Notice white wine has a higher maximum value of quality. (Some white wine is exceptionally good!)"
   ]
  },
  {
   "cell_type": "markdown",
   "id": "aebbb370",
   "metadata": {},
   "source": [
    "#### 5.2 Is good rating associated with alcohol contains or residual sugar?\n",
    "##### Residual Sugar"
   ]
  },
  {
   "cell_type": "code",
   "execution_count": 99,
   "id": "fadd2b3d",
   "metadata": {},
   "outputs": [
    {
     "data": {
      "text/plain": [
       "count    6497.000000\n",
       "mean        5.443235\n",
       "std         4.757804\n",
       "min         0.600000\n",
       "25%         1.800000\n",
       "50%         3.000000\n",
       "75%         8.100000\n",
       "max        65.800000\n",
       "Name: residual_sugar, dtype: float64"
      ]
     },
     "execution_count": 99,
     "metadata": {},
     "output_type": "execute_result"
    }
   ],
   "source": [
    "wine['residual_sugar'].describe()"
   ]
  },
  {
   "cell_type": "code",
   "execution_count": 101,
   "id": "63ca35ed",
   "metadata": {},
   "outputs": [],
   "source": [
    "# Create a sugar level categorical column\n",
    "# if smaller than median then 'low' else 'high'\n",
    "bins = [0, wine['residual_sugar'].median() , wine['residual_sugar'].max()]\n",
    "labels = ['low', 'high']\n",
    "\n",
    "wine['residual_sugar_category'] = pd.cut(wine['residual_sugar'], bins=bins, labels=labels)"
   ]
  },
  {
   "cell_type": "code",
   "execution_count": 102,
   "id": "b389145b",
   "metadata": {},
   "outputs": [
    {
     "data": {
      "text/plain": [
       "low     3269\n",
       "high    3228\n",
       "Name: residual_sugar_category, dtype: int64"
      ]
     },
     "execution_count": 102,
     "metadata": {},
     "output_type": "execute_result"
    }
   ],
   "source": [
    "wine['residual_sugar_category'].value_counts()"
   ]
  },
  {
   "cell_type": "code",
   "execution_count": 109,
   "id": "6fa0e795",
   "metadata": {},
   "outputs": [
    {
     "data": {
      "text/html": [
       "<div>\n",
       "<style scoped>\n",
       "    .dataframe tbody tr th:only-of-type {\n",
       "        vertical-align: middle;\n",
       "    }\n",
       "\n",
       "    .dataframe tbody tr th {\n",
       "        vertical-align: top;\n",
       "    }\n",
       "\n",
       "    .dataframe thead th {\n",
       "        text-align: right;\n",
       "    }\n",
       "</style>\n",
       "<table border=\"1\" class=\"dataframe\">\n",
       "  <thead>\n",
       "    <tr style=\"text-align: right;\">\n",
       "      <th></th>\n",
       "      <th>quality</th>\n",
       "    </tr>\n",
       "    <tr>\n",
       "      <th>residual_sugar_category</th>\n",
       "      <th></th>\n",
       "    </tr>\n",
       "  </thead>\n",
       "  <tbody>\n",
       "    <tr>\n",
       "      <th>low</th>\n",
       "      <td>5.807586</td>\n",
       "    </tr>\n",
       "    <tr>\n",
       "      <th>high</th>\n",
       "      <td>5.829306</td>\n",
       "    </tr>\n",
       "  </tbody>\n",
       "</table>\n",
       "</div>"
      ],
      "text/plain": [
       "                          quality\n",
       "residual_sugar_category          \n",
       "low                      5.807586\n",
       "high                     5.829306"
      ]
     },
     "execution_count": 109,
     "metadata": {},
     "output_type": "execute_result"
    }
   ],
   "source": [
    "average_rating_by_sugar = wine.groupby('residual_sugar_category')['quality'].mean().to_frame()\n",
    "average_rating_by_sugar"
   ]
  },
  {
   "cell_type": "code",
   "execution_count": 126,
   "id": "541ad8d1",
   "metadata": {},
   "outputs": [
    {
     "data": {
      "image/png": "[encoded data removed]",
      "text/plain": [
       "<Figure size 720x432 with 2 Axes>"
      ]
     },
     "metadata": {},
     "output_type": "display_data"
    }
   ],
   "source": [
    "fig, axes = plt.subplots(1, 2)\n",
    "\n",
    "# plot 1\n",
    "sns.barplot(x=average_rating_by_sugar.index, y='quality' ,data=average_rating_by_sugar,ax=axes[0])\n",
    "axes[0].set_title('Average Wine Quality by Category')\n",
    "axes[0].set_xlabel('Residual Sugar Category')\n",
    "axes[0].set_ylabel('Average Quality')\n",
    "# plot2\n",
    "sns.scatterplot(y='quality', x= 'residual_sugar',data=wine, ax=axes[1])\n",
    "axes[1].set_title('Quality Vs Residual Sugar in Wine')\n",
    "axes[1].set_xlabel('Residual Sugar')\n",
    "axes[1].set_ylabel('Quality')\n",
    "\n",
    "plt.tight_layout()"
   ]
  },
  {
   "cell_type": "markdown",
   "id": "f7ed2552",
   "metadata": {},
   "source": [
    "**Observations**\n",
    "- The average quality of wine with low residual sugar content versus high residuals is similar.\n",
    "- The very high rating wines has quite low sugar content but so as the very bad ones."
   ]
  },
  {
   "cell_type": "markdown",
   "id": "5e994798",
   "metadata": {},
   "source": [
    "#### Alcohol"
   ]
  },
  {
   "cell_type": "code",
   "execution_count": 141,
   "id": "d170c82c",
   "metadata": {},
   "outputs": [
    {
     "data": {
      "image/png": "[encoded data removed]",
      "text/plain": [
       "<Figure size 720x432 with 1 Axes>"
      ]
     },
     "metadata": {},
     "output_type": "display_data"
    }
   ],
   "source": [
    "sns.regplot(y='quality', x= 'alcohol',data=wine)\n",
    "plt.title('Relationship Between Alcohol Content and Wine Quality')\n",
    "plt.xlabel('Alcohol Content')\n",
    "plt.ylabel('Quality');"
   ]
  },
  {
   "cell_type": "markdown",
   "id": "c228c664",
   "metadata": {},
   "source": [
    "It seems like alcohol and quality has a positive reslationship. Higher alcohol content leads to higher quality."
   ]
  },
  {
   "cell_type": "code",
   "execution_count": 130,
   "id": "fd860646",
   "metadata": {},
   "outputs": [
    {
     "data": {
      "text/plain": [
       "count    6497.000000\n",
       "mean       10.491801\n",
       "std         1.192712\n",
       "min         8.000000\n",
       "25%         9.500000\n",
       "50%        10.300000\n",
       "75%        11.300000\n",
       "max        14.900000\n",
       "Name: alcohol, dtype: float64"
      ]
     },
     "execution_count": 130,
     "metadata": {},
     "output_type": "execute_result"
    }
   ],
   "source": [
    "bins = [wine.alcohol.min(), wine.alcohol.median(), wine.alcohol.max()]\n",
    "labels \n",
    "wine.alcohol.describe()"
   ]
  },
  {
   "cell_type": "code",
   "execution_count": 135,
   "id": "d3e053a2",
   "metadata": {},
   "outputs": [],
   "source": [
    "wine['alcohol_category'] = pd.qcut(wine['alcohol'], q=3, labels=['low', 'medium', 'high'])"
   ]
  },
  {
   "cell_type": "code",
   "execution_count": 142,
   "id": "d56b57b4",
   "metadata": {},
   "outputs": [
    {
     "data": {
      "image/png": "[encoded data removed]",
      "text/plain": [
       "<Figure size 720x432 with 1 Axes>"
      ]
     },
     "metadata": {},
     "output_type": "display_data"
    }
   ],
   "source": [
    "sns.barplot(y='quality', x='alcohol_category' ,data=wine)\n",
    "plt.title('Average Wine Quality by Alcohol Category')\n",
    "plt.xlabel('Alcohol Category')\n",
    "plt.ylabel('Average Quality');"
   ]
  },
  {
   "cell_type": "markdown",
   "id": "10977cc3",
   "metadata": {},
   "source": [
    "**Observation**\n",
    "- There is a positive relationship between alcohol and wine quality\n",
    "- Higher alcohol content tends to lead to higher quality in wine"
   ]
  },
  {
   "cell_type": "markdown",
   "id": "2b66ed04",
   "metadata": {},
   "source": [
    "#### 5.3 What level of acidity (ph) is associated with highest quality?"
   ]
  },
  {
   "cell_type": "code",
   "execution_count": 160,
   "id": "b21818af",
   "metadata": {},
   "outputs": [
    {
     "data": {
      "image/png": "[encoded data removed]",
      "text/plain": [
       "<Figure size 720x432 with 1 Axes>"
      ]
     },
     "metadata": {},
     "output_type": "display_data"
    }
   ],
   "source": [
    "wine['pH_category'] = pd.qcut(wine['pH'], q=3, labels=['low', 'medium', 'high'])\n",
    "\n",
    "sns.barplot(data=wine, x='pH_category', y='quality')\n",
    "plt.title('Average Wine Quality by pH Levels ')\n",
    "plt.xlabel('pH levels')\n",
    "plt.ylabel('Average Quality');"
   ]
  },
  {
   "cell_type": "markdown",
   "id": "7743baec",
   "metadata": {},
   "source": [
    "There is no big different in average quality across different pH levels"
   ]
  },
  {
   "cell_type": "code",
   "execution_count": 168,
   "id": "844b40a8",
   "metadata": {},
   "outputs": [
    {
     "data": {
      "image/png": "[encoded data removed]",
      "text/plain": [
       "<Figure size 720x432 with 1 Axes>"
      ]
     },
     "metadata": {},
     "output_type": "display_data"
    }
   ],
   "source": [
    "# Filter out high quality wine\n",
    "\n",
    "high_quality_wine = wine[wine['quality'] > 6]\n",
    "\n",
    "sns.countplot(data=high_quality_wine, x='pH_category')\n",
    "plt.title('The Number of Total Observations by pH Levels from High Rating Wines')\n",
    "plt.xlabel('pH levels')\n",
    "plt.ylabel('Count');"
   ]
  },
  {
   "cell_type": "markdown",
   "id": "82e7c4c8",
   "metadata": {},
   "source": [
    "### 6.0 Conclusions and next steps"
   ]
  },
  {
   "cell_type": "markdown",
   "id": "86a66250",
   "metadata": {},
   "source": [
    "Conclusions from the analysis\n",
    "1. Red or White wine has a better rating than the other?\n",
    "> White wine has slightly higher rating than red but not significant\n",
    "2. Is good rating associated with alcohol contains or residual sugar? (sweet or dry wine?)\n",
    "> - No clear association between residual sugar and rating \n",
    "> - Alcohol has a postive relatonship with quality. Higher alcohol content tends to lead to higher quality.\n",
    "3. What level of acidity is associated with highest quality?\n",
    "> For high rating wines, they tend to have more high pH levels.\n",
    "\n",
    "Next steps:\n",
    "- Export wine to a csv to prepare for ML tasks\n",
    "- Can we classify a wine to red or white based on a given features?"
   ]
  },
  {
   "cell_type": "code",
   "execution_count": 169,
   "id": "d53771db",
   "metadata": {},
   "outputs": [],
   "source": [
    "# write to csv\n",
    "wine.to_csv('profolio/wine+quality/wine.csv')"
   ]
  }
 ],
 "metadata": {
  "kernelspec": {
   "display_name": "Python 3 (Spyder)",
   "language": "python3",
   "name": "python3"
  },
  "language_info": {
   "codemirror_mode": {
    "name": "ipython",
    "version": 3
   },
   "file_extension": ".py",
   "mimetype": "text/x-python",
   "name": "python",
   "nbconvert_exporter": "python",
   "pygments_lexer": "ipython3",
   "version": "3.10.9"
  }
 },
 "nbformat": 4,
 "nbformat_minor": 5
}
